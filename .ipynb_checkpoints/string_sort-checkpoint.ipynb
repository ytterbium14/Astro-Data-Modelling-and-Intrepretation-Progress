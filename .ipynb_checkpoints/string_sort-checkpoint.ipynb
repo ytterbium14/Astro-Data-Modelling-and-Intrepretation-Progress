{
 "cells": [
  {
   "cell_type": "code",
   "execution_count": 11,
   "metadata": {},
   "outputs": [
    {
     "name": "stdout",
     "output_type": "stream",
     "text": [
      "are \n",
      "sample\n",
      "strings\n",
      "containedhere\n",
      "just for an example\n",
      "\n",
      "\n"
     ]
    }
   ],
   "source": [
    "def sort_length(s,n):\n",
    "    for i in range (0,n):\n",
    "        for j in range(0,n-i-1):\n",
    "            if len(s[j])>len(s[j+1]):\n",
    "                s[j],s[j+1]=s[j+1],s[j]\n",
    "                \n",
    "\n",
    "with open('Stringlist.csv','r')as f:\n",
    "    s=f.read().split('\\n')\n",
    "\n",
    "sort_length(s,4)\n",
    "\n",
    "for i in range(len(s)):\n",
    "    print(s[i])\n",
    "\n",
    "            \n",
    "    \n",
    "    "
   ]
  },
  {
   "cell_type": "code",
   "execution_count": null,
   "metadata": {},
   "outputs": [],
   "source": []
  },
  {
   "cell_type": "code",
   "execution_count": null,
   "metadata": {},
   "outputs": [],
   "source": []
  }
 ],
 "metadata": {
  "kernelspec": {
   "display_name": "Python 3",
   "language": "python",
   "name": "python3"
  },
  "language_info": {
   "codemirror_mode": {
    "name": "ipython",
    "version": 3
   },
   "file_extension": ".py",
   "mimetype": "text/x-python",
   "name": "python",
   "nbconvert_exporter": "python",
   "pygments_lexer": "ipython3",
   "version": "3.8.5"
  }
 },
 "nbformat": 4,
 "nbformat_minor": 4
}
