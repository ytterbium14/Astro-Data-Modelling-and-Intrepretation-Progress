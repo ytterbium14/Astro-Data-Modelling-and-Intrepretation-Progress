{
 "cells": [
  {
   "cell_type": "code",
   "execution_count": 17,
   "metadata": {},
   "outputs": [
    {
     "name": "stdout",
     "output_type": "stream",
     "text": [
      "enter number of events 100\n",
      "[2, 10, 9, 12, 12, 5, 9, 4, 2, 9, 5, 10, 4, 9, 5, 10, 2, 5, 3, 4, 3, 4, 5, 1, 1, 6, 8, 8, 8, 11, 8, 2, 2, 7, 7, 11, 12, 4, 9, 3, 9, 12, 7, 7, 1, 5, 5, 5, 7, 11, 10, 11, 9, 11, 4, 6, 9, 7, 12, 6, 4, 5, 2, 10, 5, 3, 8, 3, 11, 6, 5, 2, 11, 8, 10, 9, 2, 11, 11, 5, 12, 3, 8, 4, 7, 11, 10, 1, 1, 9, 7, 7, 6, 10, 3, 1, 6, 12, 6, 2]\n",
      "[0, 6, 9, 7, 8, 12, 7, 9, 7, 10, 8, 10, 7, 0]\n"
     ]
    },
    {
     "data": {
      "image/png": "[encoded data removed]",
      "text/plain": [
       "<Figure size 432x288 with 1 Axes>"
      ]
     },
     "metadata": {
      "needs_background": "light"
     },
     "output_type": "display_data"
    }
   ],
   "source": [
    "import numpy as np\n",
    "\n",
    "import random\n",
    "\n",
    "import matplotlib.pyplot as plt\n",
    "\n",
    "n=int(input(\"enter number of events \"))\n",
    "value=[0,0,0,0,0,0,0,0,0,0,0,0,0,0]\n",
    "sum=[]\n",
    "\n",
    "for i in range(n):\n",
    "    sum.append(random.randint(1,12))\n",
    "    \n",
    "for i in range(0,len(sum)):\n",
    "    t=sum[i]\n",
    "    value[t]+=1\n",
    "    \n",
    "    \n",
    "print(sum)\n",
    "print(value)\n",
    "plt.hist(sum,bins=[1,2,3,4,5,6,7,8,9,10,11,12])\n",
    "plt.show()\n",
    "\n"
   ]
  },
  {
   "cell_type": "code",
   "execution_count": null,
   "metadata": {},
   "outputs": [],
   "source": []
  },
  {
   "cell_type": "code",
   "execution_count": null,
   "metadata": {},
   "outputs": [],
   "source": []
  }
 ],
 "metadata": {
  "kernelspec": {
   "display_name": "Python 3",
   "language": "python",
   "name": "python3"
  },
  "language_info": {
   "codemirror_mode": {
    "name": "ipython",
    "version": 3
   },
   "file_extension": ".py",
   "mimetype": "text/x-python",
   "name": "python",
   "nbconvert_exporter": "python",
   "pygments_lexer": "ipython3",
   "version": "3.8.5"
  }
 },
 "nbformat": 4,
 "nbformat_minor": 4
}
