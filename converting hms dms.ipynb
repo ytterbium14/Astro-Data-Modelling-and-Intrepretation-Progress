{
 "cells": [
  {
   "cell_type": "code",
   "execution_count": 1,
   "metadata": {},
   "outputs": [
    {
     "name": "stdout",
     "output_type": "stream",
     "text": [
      "348.025\n",
      "22.955\n",
      "-66.08475\n"
     ]
    }
   ],
   "source": [
    "# Write your hms2dec and dms2dec functions here\n",
    "def hms2dec(h,m,s):\n",
    "  return (15*(h+m/60.0+s/(60*60)))\n",
    "def dms2dec(h,m,arcs):\n",
    "  if(h<0):\n",
    "    m=-m\n",
    "    arcs=-arcs\n",
    "  \n",
    "  return(h+m/60+arcs/(60*60))\n",
    "\n",
    "  \n",
    "\n",
    "\n",
    "\n",
    "\n",
    "# You can use this to test your function.\n",
    "# Any code inside this `if` statement will be ignored by the automarker.\n",
    "if __name__ == '__main__':\n",
    "  # The first example from the question\n",
    "  print(hms2dec(23, 12, 6))\n",
    "\n",
    "  # The second example from the question\n",
    "  print(dms2dec(22, 57, 18))\n",
    "\n",
    "  # The third example from the question\n",
    "  print(dms2dec(-66, 5, 5.1))"
   ]
  },
  {
   "cell_type": "code",
   "execution_count": 2,
   "metadata": {},
   "outputs": [
    {
     "name": "stdout",
     "output_type": "stream",
     "text": [
      "8.100392318146504\n",
      "29.208498180546595\n"
     ]
    }
   ],
   "source": [
    "# Write your angular_dist function here.\n",
    "import numpy as np\n",
    "def angular_dist(a_1,d_1,a_2,d_2):\n",
    "  alpha_1=np.radians(a_1)\n",
    "  alpha_2=np.radians(a_2)\n",
    "  delta_1=np.radians(d_1)\n",
    "  delta_2=np.radians(d_2)\n",
    "  a=np.sin(np.abs(delta_1-delta_2)/2)**2\n",
    "  b=np.cos(delta_1)*np.cos(delta_2)*np.sin(np.abs(alpha_1 - alpha_2)/2)**2\n",
    "  d=2*np.arcsin(np.sqrt(a + b))\n",
    "  return np.degrees(d)\n",
    "  \n",
    "\n",
    "\n",
    "\n",
    "# You can use this to test your function.\n",
    "# Any code inside this `if` statement will be ignored by the automarker.\n",
    "if __name__ == '__main__':\n",
    "  # Run your function with the first example in the question.\n",
    "  print(angular_dist(21.07, 0.1, 21.15, 8.2))\n",
    "\n",
    "  # Run your function with the second example in the question\n",
    "  print(angular_dist(10.3, -3, 24.3, -29))\n"
   ]
  },
  {
   "cell_type": "code",
   "execution_count": 3,
   "metadata": {},
   "outputs": [],
   "source": [
    "# Write your import_bss function here.\n",
    "import numpy as np\n",
    "\n",
    "def hms2dec(hr, m, s):\n",
    "  dec = hr + m/60 + s/3600\n",
    "  return dec*15\n",
    "\n",
    "def dms2dec(d, m, s):\n",
    "  sign = d/abs(d)\n",
    "  dec = abs(d) + m/60 + s/3600\n",
    "  return sign*dec\n",
    "\n",
    "def import_bss():\n",
    "  res = []\n",
    "  data = np.loadtxt('bss.dat', usecols=range(1, 7))\n",
    "  for i, row in enumerate(data, 1):\n",
    "    res.append((i, hms2dec(row[0], row[1], row[2]), dms2dec(row[3], row[4], row[5])))\n",
    "  return res\n",
    "\n",
    "def import_super():\n",
    "  data = np.loadtxt('super.csv', delimiter=',', skiprows=1, usecols=(0, 1))\n",
    "  res = []\n",
    "  for i, row in enumerate(data, 1):\n",
    "    res.append((i, row[0], row[1]))\n",
    "  return res"
   ]
  },
  {
   "cell_type": "code",
   "execution_count": null,
   "metadata": {},
   "outputs": [],
   "source": []
  }
 ],
 "metadata": {
  "kernelspec": {
   "display_name": "Python 3",
   "language": "python",
   "name": "python3"
  },
  "language_info": {
   "codemirror_mode": {
    "name": "ipython",
    "version": 3
   },
   "file_extension": ".py",
   "mimetype": "text/x-python",
   "name": "python",
   "nbconvert_exporter": "python",
   "pygments_lexer": "ipython3",
   "version": "3.8.5"
  }
 },
 "nbformat": 4,
 "nbformat_minor": 4
}
