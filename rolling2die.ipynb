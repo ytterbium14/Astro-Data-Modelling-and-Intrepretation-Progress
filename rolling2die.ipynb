{
 "cells": [
  {
   "cell_type": "code",
   "execution_count": null,
   "metadata": {},
   "outputs": [],
   "source": [
    "import numpy as np\n",
    "\n",
    "import random\n",
    "\n",
    "import matplotlib.pyplot as plt\n",
    "\n",
    "n=int(input(\"enter number of events \"))\n",
    "value=[0,0,0,0,0,0,0,0,0,0,0,0,0,0]\n",
    "sum=[]\n",
    "\n",
    "for i in range(n):\n",
    "    sum.append(random.randint(1,6)+random.randint(1,6))\n",
    "    \n",
    "for i in range(0,len(sum)):\n",
    "    t=sum[i]\n",
    "    value[t]+=1\n",
    "    \n",
    "    \n",
    "print(sum)\n",
    "print(value)\n",
    "plt.hist(sum,bins=[1,2,3,4,5,6,7,8,9,10,11,12])\n",
    "plt.show()\n",
    "\n"
   ]
  }
 ],
 "metadata": {
  "kernelspec": {
   "display_name": "Python 3",
   "language": "python",
   "name": "python3"
  },
  "language_info": {
   "codemirror_mode": {
    "name": "ipython",
    "version": 3
   },
   "file_extension": ".py",
   "mimetype": "text/x-python",
   "name": "python",
   "nbconvert_exporter": "python",
   "pygments_lexer": "ipython3",
   "version": "3.8.5"
  }
 },
 "nbformat": 4,
 "nbformat_minor": 4
}
